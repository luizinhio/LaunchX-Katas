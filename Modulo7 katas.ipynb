{
 "cells": [
  {
   "cell_type": "markdown",
   "metadata": {},
   "source": [
    "# Ejercicio : Creación de un bucle \"while\" y un \"for\"\n",
    "Ejercicio 1: Uso de ciclos while en Python\n",
    "\n",
    "Ejercicio 2: Iterar en la lista (for in)"
   ]
  },
  {
   "cell_type": "code",
   "execution_count": 4,
   "metadata": {},
   "outputs": [
    {
     "name": "stdout",
     "output_type": "stream",
     "text": [
      " El planeta 1 es: Mercurio\n",
      " El planeta 2 es: Venus\n",
      " El planeta 3 es: Tierra\n",
      " El planeta 4 es: Marte\n"
     ]
    }
   ],
   "source": [
    "# Declaramos 2 variables\n",
    "\n",
    "new_planet = ''\n",
    "planets = []\n",
    "# Iteramos para almacenar STDIN mientras no se escriba \"done\"\n",
    "\n",
    "while new_planet.lower() != 'done':\n",
    "    if new_planet:\n",
    "        planets.append(new_planet)\n",
    "    new_planet = input('Enter a new planet: ')\n",
    "\n",
    "n = 0\n",
    "# Mostramos la lista \n",
    "for p in planets:\n",
    "    print(\" El planeta %d es: %s\" % (n+1,p))\n",
    "    n += 1\n"
   ]
  }
 ],
 "metadata": {
  "interpreter": {
   "hash": "daa33f14b758ae5aaef8e472b43de5ceb2e95a876bc67178790636d21db445e6"
  },
  "kernelspec": {
   "display_name": "Python 3.10.2 64-bit",
   "language": "python",
   "name": "python3"
  },
  "language_info": {
   "codemirror_mode": {
    "name": "ipython",
    "version": 3
   },
   "file_extension": ".py",
   "mimetype": "text/x-python",
   "name": "python",
   "nbconvert_exporter": "python",
   "pygments_lexer": "ipython3",
   "version": "3.10.2"
  },
  "orig_nbformat": 4
 },
 "nbformat": 4,
 "nbformat_minor": 2
}
