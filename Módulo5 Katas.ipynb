{
 "cells": [
  {
   "cell_type": "markdown",
   "metadata": {},
   "source": [
    "# Ejercicio1 - Utilizar operadores aritméticos\n",
    "Operadores aritméticos en Python"
   ]
  },
  {
   "cell_type": "code",
   "execution_count": 14,
   "metadata": {},
   "outputs": [
    {
     "name": "stdout",
     "output_type": "stream",
     "text": [
      "628949330\n",
      "1012195830.53952\n"
     ]
    }
   ],
   "source": [
    "# Crear variables para almacenar las dos distancias\n",
    "# ¡Asegúrate de quitar las comas!\n",
    "\n",
    "first_planet = 149597870\n",
    "second_planet = 778547200\n",
    "# Calcular la distancia entre planetas\n",
    "\n",
    "distance_km = second_planet - first_planet\n",
    "print(distance_km)\n",
    "\n",
    "distance_mi = distance_km * 1.609344\n",
    "print(distance_mi)"
   ]
  },
  {
   "cell_type": "markdown",
   "metadata": {},
   "source": [
    "# Ejercicio 2: convierte cadenas en números y usa valores absolutos\n",
    "Crear una aplicación para trabajar con números y entrada de usuario\n",
    "\n"
   ]
  },
  {
   "cell_type": "markdown",
   "metadata": {},
   "source": [
    "Planeta \tDistancia al sol\n",
    "Mercurio\t57900000\n",
    "Venus\t    108200000\n",
    "Tierra\t    149600000\n",
    "Marte\t    227900000\n",
    "Júpiter\t    778600000\n",
    "Saturno\t    1433500000\n",
    "Urano\t    2872500000\n",
    "Neptuno\t    4495100000"
   ]
  },
  {
   "cell_type": "code",
   "execution_count": 13,
   "metadata": {},
   "outputs": [
    {
     "name": "stdout",
     "output_type": "stream",
     "text": [
      "La distancia entre Neptune y Mercury es:\n",
      " 7140981196.800000 millas ó 4437200000.000000 kilómetros\n"
     ]
    }
   ],
   "source": [
    "# Almacenar las entradas del usuario\n",
    "# agregué la lista de planetas para relacionarla con la distancia\n",
    "\n",
    "planets = ['Mercury', 'Venus', 'Earth', 'Mars', 'Jupiter', 'Saturn', 'Uranus', 'Neptune']\n",
    "planets_distance = [57900000,108200000,149600000,227900000,778600000,1433500000,2872500000,4495100000]\n",
    "\n",
    "first_planet = input('Introduzca la distancia del sol para el primer planeta en KM')\n",
    "second_planet = input('Introduzca la distancia desde el sol para el segundo planeta en KM')\n",
    "\n",
    "# Obtiene el nombre del planeta dependiendo de su distancia\n",
    "first_index = planets_distance.index(int(first_planet))\n",
    "second_index = planets_distance.index(int(second_planet))\n",
    "\n",
    "# Convierte las cadenas de ambos planetas a números enteros\n",
    "first_planet = int(first_planet)\n",
    "second_planet = int(second_planet)\n",
    "# Realizar el cálculo y determinar el valor absoluto\n",
    "distance_km = second_planet - first_planet\n",
    "# print(distance_km)\n",
    "\n",
    "# Convertir de KM a Millas\n",
    "distance_mi = distance_km * 1.609344\n",
    "print(\"La distancia entre %s y %s es:\" % (planets[first_index], planets[second_index]))\n",
    "print(\" %f millas ó %f kilómetros\" % (abs(distance_mi),abs(distance_km)))"
   ]
  }
 ],
 "metadata": {
  "interpreter": {
   "hash": "daa33f14b758ae5aaef8e472b43de5ceb2e95a876bc67178790636d21db445e6"
  },
  "kernelspec": {
   "display_name": "Python 3.10.2 64-bit",
   "language": "python",
   "name": "python3"
  },
  "language_info": {
   "codemirror_mode": {
    "name": "ipython",
    "version": 3
   },
   "file_extension": ".py",
   "mimetype": "text/x-python",
   "name": "python",
   "nbconvert_exporter": "python",
   "pygments_lexer": "ipython3",
   "version": "3.10.2"
  },
  "orig_nbformat": 4
 },
 "nbformat": 4,
 "nbformat_minor": 2
}
