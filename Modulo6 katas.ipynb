{
 "cells": [
  {
   "cell_type": "markdown",
   "metadata": {},
   "source": [
    "# Ejercicio1: Crear y usar listas de Python\n",
    "Ejercicio: Usar listas para almacenar nombres de planetas"
   ]
  },
  {
   "cell_type": "code",
   "execution_count": 12,
   "metadata": {},
   "outputs": [
    {
     "name": "stdout",
     "output_type": "stream",
     "text": [
      " El planeta Mercury \t está a 57900000 km de distancia del sol\n",
      " El planeta Venus \t está a 108200000 km de distancia del sol\n",
      " El planeta Earth \t está a 149600000 km de distancia del sol\n",
      " El planeta Mars \t está a 227900000 km de distancia del sol\n",
      " El planeta Jupiter \t está a 778600000 km de distancia del sol\n",
      " El planeta Saturn \t está a 1433500000 km de distancia del sol\n",
      " El planeta Uranus \t está a 2872500000 km de distancia del sol\n",
      " El planeta Neptune \t está a 4495100000 km de distancia del sol\n",
      "Pluto is the last planet and it is 5900000000 km far from the sun\n"
     ]
    }
   ],
   "source": [
    "# Creamos la lista planets y planets_distance\n",
    "planets = ['Mercury', 'Venus', 'Earth', 'Mars', 'Jupiter', 'Saturn', 'Uranus', 'Neptune']\n",
    "planets_distance = [57900000,108200000,149600000,227900000,778600000,1433500000,2872500000,4495100000]\n",
    "\n",
    "# Mostramos la lista \n",
    "for p in planets:\n",
    "    print(\" El planeta %s \\t está a %s km de distancia del sol\" % (p,planets_distance[planets.index(p)] ))\n",
    "\n",
    "# Agregamos a plutón y mostramos el último elemento\n",
    "\n",
    "planets.append('Pluto')\n",
    "planets_distance.append(5900000000)\n",
    "\n",
    "print(planets[-1], 'is the last planet and it is %d km far from the sun' % planets_distance[-1])"
   ]
  },
  {
   "cell_type": "markdown",
   "metadata": {},
   "source": [
    "# Ejercicio 2: Trabajando con datos de una lista\n",
    "Usar slices para recuperar partes de una lista"
   ]
  },
  {
   "cell_type": "code",
   "execution_count": 14,
   "metadata": {},
   "outputs": [
    {
     "name": "stdout",
     "output_type": "stream",
     "text": [
      "Here are the planets closer than Mars\n",
      "['Mercury', 'Venus', 'Earth']\n",
      "Here are the planets farther than Mars\n",
      "['Jupiter', 'Saturn', 'Uranus', 'Neptune']\n"
     ]
    }
   ],
   "source": [
    "# Creamos la lista planets y planets_distance\n",
    "planets = ['Mercury', 'Venus', 'Earth', 'Mars', 'Jupiter', 'Saturn', 'Uranus', 'Neptune']\n",
    "planets_distance = [57900000,108200000,149600000,227900000,778600000,1433500000,2872500000,4495100000]\n",
    "\n",
    "# Solicitamos el nombre de un planeta *Pista:  input()*\n",
    "user_planet = input('Please enter the name of the planet (with a capital letter to start)')\n",
    "\n",
    "# Busca el planeta en la lista\n",
    "\n",
    "planet_index = planets.index(user_planet)\n",
    "\n",
    "# Muestra los planetas más cercanos al sol\n",
    "\n",
    "print('Here are the planets closer than ' + user_planet)\n",
    "print(planets[0:planet_index])\n",
    "\n",
    "# Muestra los planetas más lejanos al sol\n",
    "\n",
    "print('Here are the planets farther than ' + user_planet)\n",
    "print(planets[planet_index + 1:])"
   ]
  }
 ],
 "metadata": {
  "interpreter": {
   "hash": "daa33f14b758ae5aaef8e472b43de5ceb2e95a876bc67178790636d21db445e6"
  },
  "kernelspec": {
   "display_name": "Python 3.10.2 64-bit",
   "language": "python",
   "name": "python3"
  },
  "language_info": {
   "codemirror_mode": {
    "name": "ipython",
    "version": 3
   },
   "file_extension": ".py",
   "mimetype": "text/x-python",
   "name": "python",
   "nbconvert_exporter": "python",
   "pygments_lexer": "ipython3",
   "version": "3.10.2"
  },
  "orig_nbformat": 4
 },
 "nbformat": 4,
 "nbformat_minor": 2
}
